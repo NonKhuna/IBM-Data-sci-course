{
  "cells": [
    {
      "cell_type": "markdown",
      "metadata": {
        "id": "view-in-github",
        "colab_type": "text"
      },
      "source": [
        "<a href=\"https://colab.research.google.com/github/NonKhuna/IBM-Data-sci-course/blob/master/jupyter_labs_eda_sql_coursera_sqllite.ipynb\" target=\"_parent\"><img src=\"https://colab.research.google.com/assets/colab-badge.svg\" alt=\"Open In Colab\"/></a>"
      ]
    },
    {
      "cell_type": "markdown",
      "metadata": {
        "id": "NfmKsI5-tr0p"
      },
      "source": [
        "<p style=\"text-align:center\">\n",
        "    <a href=\"https://skills.network/?utm_medium=Exinfluencer&utm_source=Exinfluencer&utm_content=000026UJ&utm_term=10006555&utm_id=NA-SkillsNetwork-Channel-SkillsNetworkCoursesIBMDS0321ENSkillsNetwork26802033-2022-01-01\" target=\"_blank\">\n",
        "    <img src=\"https://cf-courses-data.s3.us.cloud-object-storage.appdomain.cloud/assets/logos/SN_web_lightmode.png\" width=\"200\" alt=\"Skills Network Logo\"  />\n",
        "    </a>\n",
        "</p>\n",
        "\n",
        "<h1 align=center><font size = 5>Assignment: SQL Notebook for Peer Assignment</font></h1>\n",
        "\n",
        "Estimated time needed: **60** minutes.\n",
        "\n",
        "## Introduction\n",
        "\n",
        "Using this Python notebook you will:\n",
        "\n",
        "1.  Understand the Spacex DataSet\n",
        "2.  Load the dataset  into the corresponding table in a Db2 database\n",
        "3.  Execute SQL queries to answer assignment questions\n"
      ]
    },
    {
      "cell_type": "markdown",
      "metadata": {
        "id": "Z7KygAJftr0x"
      },
      "source": [
        "## Overview of the DataSet\n",
        "\n",
        "SpaceX has gained worldwide attention for a series of historic milestones.\n",
        "\n",
        "It is the only private company ever to return a spacecraft from low-earth orbit, which it first accomplished in December 2010.\n",
        "SpaceX advertises Falcon 9 rocket launches on its website with a cost of 62 million dollars wheras other providers cost upward of 165 million dollars each, much of the savings is because Space X can reuse the first stage.\n",
        "\n",
        "Therefore if we can determine if the first stage will land, we can determine the cost of a launch.\n",
        "\n",
        "This information can be used if an alternate company wants to bid against SpaceX for a rocket launch.\n",
        "\n",
        "This dataset includes a record for each payload carried during a SpaceX mission into outer space.\n"
      ]
    },
    {
      "cell_type": "markdown",
      "metadata": {
        "id": "VjSVdnmZtr0z"
      },
      "source": [
        "### Download the datasets\n",
        "\n",
        "This assignment requires you to load the spacex dataset.\n",
        "\n",
        "In many cases the dataset to be analyzed is available as a .CSV (comma separated values) file, perhaps on the internet. Click on the link below to download and save the dataset (.CSV file):\n",
        "\n",
        "<a href=\"https://cf-courses-data.s3.us.cloud-object-storage.appdomain.cloud/IBM-DS0321EN-SkillsNetwork/labs/module_2/data/Spacex.csv?utm_medium=Exinfluencer&utm_source=Exinfluencer&utm_content=000026UJ&utm_term=10006555&utm_id=NA-SkillsNetwork-Channel-SkillsNetworkCoursesIBMDS0321ENSkillsNetwork26802033-2022-01-01\" target=\"_blank\">Spacex DataSet</a>\n"
      ]
    },
    {
      "cell_type": "markdown",
      "metadata": {
        "id": "rYngxnt4tr00"
      },
      "source": [
        "### Store the dataset in database table\n",
        "\n",
        "**it is highly recommended to manually load the table using the database console LOAD tool in DB2**.\n",
        "\n",
        "<img src = \"https://cf-courses-data.s3.us.cloud-object-storage.appdomain.cloud/IBM-DS0321EN-SkillsNetwork/labs/module_2/images/spacexload.png\">\n",
        "\n",
        "Now open the Db2 console, open the LOAD tool, Select / Drag the .CSV file for the  dataset, Next create a New Table, and then follow the steps on-screen instructions to load the data. Name the new table as follows:\n",
        "\n",
        "**SPACEXDATASET**\n",
        "\n",
        "**Follow these steps while using old DB2 UI which is having Open Console Screen**\n",
        "\n",
        "**Note:While loading Spacex dataset, ensure that detect datatypes is disabled. Later click on the pencil icon(edit option).**\n",
        "\n",
        "1.  Change the Date Format by manually typing DD-MM-YYYY and timestamp format as DD-MM-YYYY HH\\:MM:SS\n",
        "\n",
        "2.  Change the PAYLOAD_MASS\\_\\_KG\\_  datatype  to INTEGER.\n",
        "\n",
        "<img src = \"https://cf-courses-data.s3.us.cloud-object-storage.appdomain.cloud/IBM-DS0321EN-SkillsNetwork/labs/module_2/images/spacexload2.png\">\n"
      ]
    },
    {
      "cell_type": "markdown",
      "metadata": {
        "id": "DWBmf9ectr02"
      },
      "source": [
        "**Changes to be considered when having DB2 instance with the new UI having Go to UI screen**\n",
        "\n",
        "*   Refer to this insruction in this <a href=\"https://cf-courses-data.s3.us.cloud-object-storage.appdomain.cloud/IBMDeveloperSkillsNetwork-DB0201EN-SkillsNetwork/labs/Labs_Coursera_V5/labs/Lab%20-%20Sign%20up%20for%20IBM%20Cloud%20-%20Create%20Db2%20service%20instance%20-%20Get%20started%20with%20the%20Db2%20console/instructional-labs.md.html?utm_medium=Exinfluencer&utm_source=Exinfluencer&utm_content=000026UJ&utm_term=10006555&utm_id=NA-SkillsNetwork-Channel-SkillsNetworkCoursesIBMDS0321ENSkillsNetwork26802033-2022-01-01\">link</a> for viewing  the new  Go to UI screen.\n",
        "\n",
        "*   Later click on **Data link(below SQL)**  in the Go to UI screen  and click on **Load Data** tab.\n",
        "\n",
        "*   Later browse for the downloaded spacex file.\n",
        "\n",
        "<img src=\"https://cf-courses-data.s3.us.cloud-object-storage.appdomain.cloud/IBM-DS0321EN-SkillsNetwork/labs/module_2/images/browsefile.png\" width=\"800\"/>\n",
        "\n",
        "*   Once done select the schema andload the file.\n",
        "\n",
        " <img src=\"https://cf-courses-data.s3.us.cloud-object-storage.appdomain.cloud/IBM-DS0321EN-SkillsNetwork/labs/module_2/images/spacexload3.png\" width=\"800\"/>\n"
      ]
    },
    {
      "cell_type": "code",
      "execution_count": null,
      "metadata": {
        "colab": {
          "base_uri": "https://localhost:8080/"
        },
        "id": "rqw4nXJLtr04",
        "outputId": "8232f3c4-5072-4563-f444-d415466959b8"
      },
      "outputs": [
        {
          "output_type": "stream",
          "name": "stdout",
          "text": [
            "Looking in indexes: https://pypi.org/simple, https://us-python.pkg.dev/colab-wheels/public/simple/\n",
            "Collecting sqlalchemy==1.3.9\n",
            "  Downloading SQLAlchemy-1.3.9.tar.gz (6.0 MB)\n",
            "\u001b[K     |████████████████████████████████| 6.0 MB 4.4 MB/s \n",
            "\u001b[?25hBuilding wheels for collected packages: sqlalchemy\n",
            "  Building wheel for sqlalchemy (setup.py) ... \u001b[?25l\u001b[?25hdone\n",
            "  Created wheel for sqlalchemy: filename=SQLAlchemy-1.3.9-cp37-cp37m-linux_x86_64.whl size=1203573 sha256=39eba257b5a52d724ca5bd8ee6cb9755febf621f83bbea0f356bf385ef72e2ac\n",
            "  Stored in directory: /root/.cache/pip/wheels/03/71/13/010faf12246f72dc76b4150e6e599d13a85b4435e06fb9e51f\n",
            "Successfully built sqlalchemy\n",
            "Installing collected packages: sqlalchemy\n",
            "  Attempting uninstall: sqlalchemy\n",
            "    Found existing installation: SQLAlchemy 1.4.37\n",
            "    Uninstalling SQLAlchemy-1.4.37:\n",
            "      Successfully uninstalled SQLAlchemy-1.4.37\n",
            "Successfully installed sqlalchemy-1.3.9\n"
          ]
        }
      ],
      "source": [
        "!pip install sqlalchemy==1.3.9\n"
      ]
    },
    {
      "cell_type": "markdown",
      "metadata": {
        "id": "rZGyvhFGtr06"
      },
      "source": [
        "### Connect to the database\n",
        "\n",
        "Let us first load the SQL extension and establish a connection with the database\n"
      ]
    },
    {
      "cell_type": "code",
      "execution_count": null,
      "metadata": {
        "id": "VwmRZFwstr06"
      },
      "outputs": [],
      "source": [
        "%load_ext sql"
      ]
    },
    {
      "cell_type": "code",
      "execution_count": null,
      "metadata": {
        "id": "PM6w04Fltr07"
      },
      "outputs": [],
      "source": [
        "import csv, sqlite3\n",
        "\n",
        "con = sqlite3.connect(\"my_data1.db\")\n",
        "cur = con.cursor()"
      ]
    },
    {
      "cell_type": "code",
      "execution_count": null,
      "metadata": {
        "colab": {
          "base_uri": "https://localhost:8080/"
        },
        "id": "L-fFFJestr08",
        "outputId": "e3773f25-5b39-4702-e89c-30abae3dbbb0"
      },
      "outputs": [
        {
          "output_type": "stream",
          "name": "stdout",
          "text": [
            "\u001b[K     |████████████████████████████████| 9.5 MB 3.9 MB/s \n",
            "\u001b[?25h"
          ]
        }
      ],
      "source": [
        "!pip install -q pandas==1.1.5"
      ]
    },
    {
      "cell_type": "code",
      "execution_count": null,
      "metadata": {
        "colab": {
          "base_uri": "https://localhost:8080/",
          "height": 35
        },
        "id": "Ji-R0rVatr09",
        "outputId": "61fe4446-a5db-41a9-ac4a-fbf04d3ecd31"
      },
      "outputs": [
        {
          "output_type": "execute_result",
          "data": {
            "text/plain": [
              "'Connected: @my_data1.db'"
            ],
            "application/vnd.google.colaboratory.intrinsic+json": {
              "type": "string"
            }
          },
          "metadata": {},
          "execution_count": 6
        }
      ],
      "source": [
        "%sql sqlite:///my_data1.db"
      ]
    },
    {
      "cell_type": "code",
      "execution_count": null,
      "metadata": {
        "id": "8eUcNsGKtr0-"
      },
      "outputs": [],
      "source": [
        "import pandas as pd\n",
        "df = pd.read_csv(\"https://cf-courses-data.s3.us.cloud-object-storage.appdomain.cloud/IBM-DS0321EN-SkillsNetwork/labs/module_2/data/Spacex.csv\")\n",
        "df.to_sql(\"SPACEXTBL\", con, if_exists='replace', index=False,method=\"multi\")"
      ]
    },
    {
      "cell_type": "markdown",
      "metadata": {
        "id": "5NkZxNB_tr0-"
      },
      "source": [
        "## Tasks\n",
        "\n",
        "Now write and execute SQL queries to solve the assignment tasks.\n",
        "\n",
        "**Note: If the column names are in mixed case enclose it in double quotes\n",
        "For Example \"Landing_Outcome\"**\n",
        "\n",
        "### Task 1\n",
        "\n",
        "##### Display the names of the unique launch sites  in the space mission\n"
      ]
    },
    {
      "cell_type": "code",
      "source": [
        "cur.description"
      ],
      "metadata": {
        "colab": {
          "base_uri": "https://localhost:8080/"
        },
        "id": "HZu-xB1Vwsh6",
        "outputId": "cadcfa1b-cfc7-4d79-9a84-a577ca42c8d1"
      },
      "execution_count": null,
      "outputs": [
        {
          "output_type": "execute_result",
          "data": {
            "text/plain": [
              "(('Date', None, None, None, None, None, None),\n",
              " ('Time (UTC)', None, None, None, None, None, None),\n",
              " ('Booster_Version', None, None, None, None, None, None),\n",
              " ('Launch_Site', None, None, None, None, None, None),\n",
              " ('Payload', None, None, None, None, None, None),\n",
              " ('PAYLOAD_MASS__KG_', None, None, None, None, None, None),\n",
              " ('Orbit', None, None, None, None, None, None),\n",
              " ('Customer', None, None, None, None, None, None),\n",
              " ('Mission_Outcome', None, None, None, None, None, None),\n",
              " ('Landing _Outcome', None, None, None, None, None, None))"
            ]
          },
          "metadata": {},
          "execution_count": 19
        }
      ]
    },
    {
      "cell_type": "code",
      "source": [
        "sql = \"\"\"\n",
        "        SELECT DISTINCT Launch_Site\n",
        "        FROM SPACEXTBL\n",
        "\"\"\"\n",
        "cur.execute(sql).fetchall()"
      ],
      "metadata": {
        "colab": {
          "base_uri": "https://localhost:8080/"
        },
        "id": "TrbCuFA0wBrV",
        "outputId": "e41729fa-64d8-4d81-9897-7f9713e56eac"
      },
      "execution_count": null,
      "outputs": [
        {
          "output_type": "execute_result",
          "data": {
            "text/plain": [
              "[('CCAFS LC-40',), ('VAFB SLC-4E',), ('KSC LC-39A',), ('CCAFS SLC-40',)]"
            ]
          },
          "metadata": {},
          "execution_count": 20
        }
      ]
    },
    {
      "cell_type": "markdown",
      "metadata": {
        "id": "VoGXXVgLtr0_"
      },
      "source": [
        "### Task 2\n",
        "\n",
        "##### Display 5 records where launch sites begin with the string 'CCA'\n"
      ]
    },
    {
      "cell_type": "code",
      "execution_count": null,
      "metadata": {
        "colab": {
          "base_uri": "https://localhost:8080/"
        },
        "id": "7leQxoFjtr1A",
        "outputId": "4a0b3fc4-e22c-4a16-da29-5a75bdefb110"
      },
      "outputs": [
        {
          "output_type": "execute_result",
          "data": {
            "text/plain": [
              "[('04-06-2010',\n",
              "  '18:45:00',\n",
              "  'F9 v1.0  B0003',\n",
              "  'CCAFS LC-40',\n",
              "  'Dragon Spacecraft Qualification Unit',\n",
              "  0,\n",
              "  'LEO',\n",
              "  'SpaceX',\n",
              "  'Success',\n",
              "  'Failure (parachute)'),\n",
              " ('08-12-2010',\n",
              "  '15:43:00',\n",
              "  'F9 v1.0  B0004',\n",
              "  'CCAFS LC-40',\n",
              "  'Dragon demo flight C1, two CubeSats, barrel of Brouere cheese',\n",
              "  0,\n",
              "  'LEO (ISS)',\n",
              "  'NASA (COTS) NRO',\n",
              "  'Success',\n",
              "  'Failure (parachute)'),\n",
              " ('22-05-2012',\n",
              "  '07:44:00',\n",
              "  'F9 v1.0  B0005',\n",
              "  'CCAFS LC-40',\n",
              "  'Dragon demo flight C2',\n",
              "  525,\n",
              "  'LEO (ISS)',\n",
              "  'NASA (COTS)',\n",
              "  'Success',\n",
              "  'No attempt'),\n",
              " ('08-10-2012',\n",
              "  '00:35:00',\n",
              "  'F9 v1.0  B0006',\n",
              "  'CCAFS LC-40',\n",
              "  'SpaceX CRS-1',\n",
              "  500,\n",
              "  'LEO (ISS)',\n",
              "  'NASA (CRS)',\n",
              "  'Success',\n",
              "  'No attempt'),\n",
              " ('01-03-2013',\n",
              "  '15:10:00',\n",
              "  'F9 v1.0  B0007',\n",
              "  'CCAFS LC-40',\n",
              "  'SpaceX CRS-2',\n",
              "  677,\n",
              "  'LEO (ISS)',\n",
              "  'NASA (CRS)',\n",
              "  'Success',\n",
              "  'No attempt')]"
            ]
          },
          "metadata": {},
          "execution_count": 29
        }
      ],
      "source": [
        "sql = \"\"\"\n",
        "        SELECT *\n",
        "        FROM SPACEXTBL\n",
        "        WHERE Launch_Site LIKE \"%CCA%\"\n",
        "\"\"\"\n",
        "cur.execute(sql).fetchall()[:5]"
      ]
    },
    {
      "cell_type": "markdown",
      "metadata": {
        "id": "2L40BcH_tr1A"
      },
      "source": [
        "### Task 3\n",
        "\n",
        "##### Display the total payload mass carried by boosters launched by NASA (CRS)\n"
      ]
    },
    {
      "cell_type": "code",
      "execution_count": null,
      "metadata": {
        "colab": {
          "base_uri": "https://localhost:8080/"
        },
        "id": "n_dLXYL2tr1A",
        "outputId": "1f6e0d89-8d3f-4a6f-a880-365505a89123"
      },
      "outputs": [
        {
          "output_type": "execute_result",
          "data": {
            "text/plain": [
              "(48213,)"
            ]
          },
          "metadata": {},
          "execution_count": 55
        }
      ],
      "source": [
        "cur.execute(\"SELECT SUM(PAYLOAD_MASS__KG_) FROM SPACEXTBL WHERE Customer LIKE '%NASA (CRS)%'\").fetchone()"
      ]
    },
    {
      "cell_type": "markdown",
      "metadata": {
        "id": "1vp-4ahstr1B"
      },
      "source": [
        "### Task 4\n",
        "\n",
        "##### Display average payload mass carried by booster version F9 v1.1\n"
      ]
    },
    {
      "cell_type": "code",
      "execution_count": null,
      "metadata": {
        "colab": {
          "base_uri": "https://localhost:8080/"
        },
        "id": "79meKNxmtr1B",
        "outputId": "1cbf3719-52a8-4326-8d36-47d9376bb0f5"
      },
      "outputs": [
        {
          "output_type": "execute_result",
          "data": {
            "text/plain": [
              "(2534.6666666666665,)"
            ]
          },
          "metadata": {},
          "execution_count": 49
        }
      ],
      "source": [
        "cur.execute(\"SELECT AVG(PAYLOAD_MASS__KG_) FROM SPACEXTBL WHERE Booster_Version LIKE '%F9 v1.1%'\").fetchone()"
      ]
    },
    {
      "cell_type": "markdown",
      "metadata": {
        "id": "oQR_uNWbtr1B"
      },
      "source": [
        "### Task 5\n",
        "\n",
        "##### List the date when the first succesful landing outcome in ground pad was acheived.\n",
        "\n",
        "*Hint:Use min function*\n"
      ]
    },
    {
      "cell_type": "code",
      "execution_count": null,
      "metadata": {
        "colab": {
          "base_uri": "https://localhost:8080/"
        },
        "id": "mFhecBgYtr1B",
        "outputId": "fda35b00-fadb-4d56-c655-7c6d9fd205a2"
      },
      "outputs": [
        {
          "output_type": "execute_result",
          "data": {
            "text/plain": [
              "[('Failure (parachute)',),\n",
              " ('No attempt',),\n",
              " ('Uncontrolled (ocean)',),\n",
              " ('Controlled (ocean)',),\n",
              " ('Failure (drone ship)',),\n",
              " ('Precluded (drone ship)',),\n",
              " ('Success (ground pad)',),\n",
              " ('Success (drone ship)',),\n",
              " ('Success',),\n",
              " ('Failure',),\n",
              " ('No attempt ',)]"
            ]
          },
          "metadata": {},
          "execution_count": 45
        }
      ],
      "source": [
        "cur.execute(\"SELECT DISTINCT [Landing _Outcome] FROM SPACEXTBL\").fetchall()"
      ]
    },
    {
      "cell_type": "code",
      "source": [
        "query = \"\"\"\n",
        "      SELECT MIN(Date)\n",
        "      FROM SPACEXTBL\n",
        "      WHERE [Landing _Outcome] = 'Success (ground pad)'\n",
        "\"\"\"\n",
        "cur.execute(query).fetchall()"
      ],
      "metadata": {
        "colab": {
          "base_uri": "https://localhost:8080/"
        },
        "id": "6fVcYRqX6Vtl",
        "outputId": "1e903c34-1001-433f-f8a6-7c55d51f5b00"
      },
      "execution_count": null,
      "outputs": [
        {
          "output_type": "execute_result",
          "data": {
            "text/plain": [
              "[('01-05-2017',)]"
            ]
          },
          "metadata": {},
          "execution_count": 51
        }
      ]
    },
    {
      "cell_type": "markdown",
      "metadata": {
        "id": "wCPBcVVjtr1B"
      },
      "source": [
        "### Task 6\n",
        "\n",
        "##### List the names of the boosters which have success in drone ship and have payload mass greater than 4000 but less than 6000\n"
      ]
    },
    {
      "cell_type": "code",
      "execution_count": null,
      "metadata": {
        "colab": {
          "base_uri": "https://localhost:8080/"
        },
        "id": "PphAlBODtr1C",
        "outputId": "76209fee-817a-455f-9156-cb62fe3c8e31"
      },
      "outputs": [
        {
          "output_type": "execute_result",
          "data": {
            "text/plain": [
              "[('F9 FT B1022',), ('F9 FT B1026',), ('F9 FT  B1021.2',), ('F9 FT  B1031.2',)]"
            ]
          },
          "metadata": {},
          "execution_count": 54
        }
      ],
      "source": [
        "query = \"\"\"\n",
        "      SELECT Booster_Version\n",
        "      FROM SPACEXTBL\n",
        "      WHERE [Landing _Outcome] = 'Success (drone ship)' AND PAYLOAD_MASS__KG_ > 4000 AND PAYLOAD_MASS__KG_ < 6000\n",
        "\"\"\"\n",
        "cur.execute(query).fetchall()"
      ]
    },
    {
      "cell_type": "markdown",
      "metadata": {
        "id": "9lO8A5cLtr1C"
      },
      "source": [
        "### Task 7\n",
        "\n",
        "##### List the total number of successful and failure mission outcomes\n"
      ]
    },
    {
      "cell_type": "code",
      "execution_count": null,
      "metadata": {
        "colab": {
          "base_uri": "https://localhost:8080/"
        },
        "id": "VfQBly0btr1C",
        "outputId": "b4d2747a-cbb9-4206-a614-c901a59cb077"
      },
      "outputs": [
        {
          "output_type": "execute_result",
          "data": {
            "text/plain": [
              "[('Failure (in flight)', 1),\n",
              " ('Success', 98),\n",
              " ('Success ', 1),\n",
              " ('Success (payload status unclear)', 1)]"
            ]
          },
          "metadata": {},
          "execution_count": 56
        }
      ],
      "source": [
        "query = \"\"\"\n",
        "      SELECT Mission_Outcome, COUNT(1)\n",
        "      FROM SPACEXTBL\n",
        "      GROUP BY Mission_Outcome\n",
        "\"\"\"\n",
        "cur.execute(query).fetchall()"
      ]
    },
    {
      "cell_type": "markdown",
      "metadata": {
        "id": "VTTGYpp2tr1C"
      },
      "source": [
        "### Task 8\n",
        "\n",
        "##### List the   names of the booster_versions which have carried the maximum payload mass. Use a subquery\n"
      ]
    },
    {
      "cell_type": "code",
      "execution_count": null,
      "metadata": {
        "colab": {
          "base_uri": "https://localhost:8080/"
        },
        "id": "mgMA_3fotr1D",
        "outputId": "df571d57-0aa9-4bac-8aed-07c80e7cba97"
      },
      "outputs": [
        {
          "output_type": "execute_result",
          "data": {
            "text/plain": [
              "[('F9 B4  B1039.2',),\n",
              " ('F9 B4  B1040.2',),\n",
              " ('F9 B4  B1041.2',),\n",
              " ('F9 B4  B1043.2',),\n",
              " ('F9 B4 B1039.1',),\n",
              " ('F9 B4 B1040.1',),\n",
              " ('F9 B4 B1041.1',),\n",
              " ('F9 B4 B1042.1',),\n",
              " ('F9 B4 B1043.1',),\n",
              " ('F9 B4 B1044',),\n",
              " ('F9 B4 B1045.1',),\n",
              " ('F9 B4 B1045.2',),\n",
              " ('F9 B5  B1046.1',),\n",
              " ('F9 B5 B1046.2',),\n",
              " ('F9 B5 B1046.3',),\n",
              " ('F9 B5 B1046.4',),\n",
              " ('F9 B5 B1047.2',),\n",
              " ('F9 B5 B1047.3 ',),\n",
              " ('F9 B5 B1048.2',),\n",
              " ('F9 B5 B1048.3',),\n",
              " ('F9 B5 B1048.4',),\n",
              " ('F9 B5 B1048.5',),\n",
              " ('F9 B5 B1049.2',),\n",
              " ('F9 B5 B1049.3',),\n",
              " ('F9 B5 B1049.4',),\n",
              " ('F9 B5 B1049.5',),\n",
              " ('F9 B5 B1049.6',),\n",
              " ('F9 B5 B1049.7 ',),\n",
              " ('F9 B5 B1051.2 ',),\n",
              " ('F9 B5 B1051.3',),\n",
              " ('F9 B5 B1051.4',),\n",
              " ('F9 B5 B1051.5',),\n",
              " ('F9 B5 B1051.6',),\n",
              " ('F9 B5 B1056.2 ',),\n",
              " ('F9 B5 B1056.3 ',),\n",
              " ('F9 B5 B1056.4',),\n",
              " ('F9 B5 B1058.2 ',),\n",
              " ('F9 B5 B1058.3 ',),\n",
              " ('F9 B5 B1058.4 ',),\n",
              " ('F9 B5 B1059.2',),\n",
              " ('F9 B5 B1059.3',),\n",
              " ('F9 B5 B1059.4',),\n",
              " ('F9 B5 B1060.2 ',),\n",
              " ('F9 B5 B1060.3',),\n",
              " ('F9 B5B1047.1',),\n",
              " ('F9 B5B1048.1',),\n",
              " ('F9 B5B1049.1',),\n",
              " ('F9 B5B1050',),\n",
              " ('F9 B5B1051.1',),\n",
              " ('F9 B5B1054',),\n",
              " ('F9 B5B1056.1 ',),\n",
              " ('F9 B5B1058.1 ',),\n",
              " ('F9 B5B1059.1',),\n",
              " ('F9 B5B1060.1',),\n",
              " ('F9 B5B1061.1 ',),\n",
              " ('F9 B5B1062.1',),\n",
              " ('F9 B5B1063.1',),\n",
              " ('F9 FT  B1021.2',),\n",
              " ('F9 FT  B1029.2',),\n",
              " ('F9 FT  B1031.2',),\n",
              " ('F9 FT  B1032.2',),\n",
              " ('F9 FT  B1035.2',),\n",
              " ('F9 FT  B1036.2',),\n",
              " ('F9 FT  B1038.2',),\n",
              " ('F9 FT B1019',),\n",
              " ('F9 FT B1020',),\n",
              " ('F9 FT B1021.1',),\n",
              " ('F9 FT B1022',),\n",
              " ('F9 FT B1023.1',),\n",
              " ('F9 FT B1024',),\n",
              " ('F9 FT B1025.1',),\n",
              " ('F9 FT B1026',),\n",
              " ('F9 FT B1029.1',),\n",
              " ('F9 FT B1030',),\n",
              " ('F9 FT B1031.1',),\n",
              " ('F9 FT B1032.1',),\n",
              " ('F9 FT B1034',),\n",
              " ('F9 FT B1035.1',),\n",
              " ('F9 FT B1036.1',),\n",
              " ('F9 FT B1037',),\n",
              " ('F9 FT B1038.1',),\n",
              " ('F9 v1.0  B0003',),\n",
              " ('F9 v1.0  B0004',),\n",
              " ('F9 v1.0  B0005',),\n",
              " ('F9 v1.0  B0006',),\n",
              " ('F9 v1.0  B0007',),\n",
              " ('F9 v1.1',),\n",
              " ('F9 v1.1  B1003',),\n",
              " ('F9 v1.1 B1010',),\n",
              " ('F9 v1.1 B1011',),\n",
              " ('F9 v1.1 B1012',),\n",
              " ('F9 v1.1 B1013',),\n",
              " ('F9 v1.1 B1014',),\n",
              " ('F9 v1.1 B1015',),\n",
              " ('F9 v1.1 B1016',),\n",
              " ('F9 v1.1 B1017',),\n",
              " ('F9 v1.1 B1018',)]"
            ]
          },
          "metadata": {},
          "execution_count": 62
        }
      ],
      "source": [
        "query = \"\"\"\n",
        "          WITH Seniors AS\n",
        "          (\n",
        "          SELECT Booster_Version AS NAME, MAX(PAYLOAD_MASS__KG_) AS _pay_mass\n",
        "          FROM SPACEXTBL\n",
        "          GROUP BY Booster_Version\n",
        "          )\n",
        "          SELECT NAME\n",
        "          FROM Seniors\n",
        "\"\"\"\n",
        "# query = \"\"\"\n",
        "#         SELECT Booster_Version AS NAME, MAX(PAYLOAD_MASS__KG_) AS _pay_mass\n",
        "#         FROM SPACEXTBL\n",
        "#         GROUP BY Booster_Version\n",
        "# \"\"\"\n",
        "cur.execute(query).fetchall()"
      ]
    },
    {
      "cell_type": "markdown",
      "metadata": {
        "id": "gCJleUMKtr1D"
      },
      "source": [
        "### Task 9\n",
        "\n",
        "##### List the records which will display the month names, failure landing_outcomes in drone ship ,booster versions, launch_site for the months in year 2015.\n",
        "\n",
        "**Note: SQLLite does not support monthnames. So you need to use  substr(Date, 4, 2) as month to get the months and substr(Date,7,4)='2015' for year.**\n"
      ]
    },
    {
      "cell_type": "code",
      "execution_count": null,
      "metadata": {
        "colab": {
          "base_uri": "https://localhost:8080/"
        },
        "id": "vpiVOxGqtr1D",
        "outputId": "39dcc51d-bc7a-4001-e590-8e0419e5b668"
      },
      "outputs": [
        {
          "output_type": "execute_result",
          "data": {
            "text/plain": [
              "[('01', 'Failure (drone ship)', 'F9 v1.1 B1012', 'CCAFS LC-40'),\n",
              " ('04', 'Failure (drone ship)', 'F9 v1.1 B1015', 'CCAFS LC-40')]"
            ]
          },
          "metadata": {},
          "execution_count": 66
        }
      ],
      "source": [
        "query = \"\"\"\n",
        "          SELECT substr(Date, 4, 2) AS month_name, [Landing _Outcome], Booster_Version, Launch_Site\n",
        "          FROM SPACEXTBL\n",
        "          WHERE substr(Date,7,4)='2015' AND [Landing _Outcome] = 'Failure (drone ship)'\n",
        "\"\"\"\n",
        "cur.execute(query).fetchall()"
      ]
    },
    {
      "cell_type": "markdown",
      "metadata": {
        "id": "8keV3rqEtr1D"
      },
      "source": [
        "### Task 10\n",
        "\n",
        "##### Rank the  count of  successful landing_outcomes between the date 04-06-2010 and 20-03-2017 in descending order.\n"
      ]
    },
    {
      "cell_type": "code",
      "execution_count": null,
      "metadata": {
        "colab": {
          "base_uri": "https://localhost:8080/"
        },
        "id": "zQoUYa4ptr1E",
        "outputId": "a6e2cb3d-4478-43ca-9f73-f0ff02accee2"
      },
      "outputs": [
        {
          "output_type": "execute_result",
          "data": {
            "text/plain": [
              "[('04-06-2020', 1),\n",
              " ('05-11-2020', 1),\n",
              " ('05-12-2019', 1),\n",
              " ('06-05-2016', 1),\n",
              " ('06-10-2020', 1),\n",
              " ('06-12-2020', 1),\n",
              " ('07-01-2020', 1),\n",
              " ('07-03-2020', 1),\n",
              " ('07-08-2018', 1),\n",
              " ('07-08-2020', 1),\n",
              " ('07-09-2017', 1),\n",
              " ('08-01-2018', 1),\n",
              " ('08-04-2016', 1),\n",
              " ('08-10-2018', 1),\n",
              " ('09-10-2017', 1),\n",
              " ('10-09-2018', 1),\n",
              " ('11-01-2019', 1),\n",
              " ('11-05-2018', 1),\n",
              " ('11-10-2017', 1),\n",
              " ('11-11-2019', 1),\n",
              " ('12-06-2019', 1),\n",
              " ('13-06-2020', 1),\n",
              " ('14-01-2017', 1),\n",
              " ('14-08-2016', 1),\n",
              " ('14-08-2017', 1),\n",
              " ('15-11-2018', 1),\n",
              " ('15-12-2017', 1),\n",
              " ('16-11-2020', 1),\n",
              " ('17-12-2019', 1),\n",
              " ('18-04-2018', 1),\n",
              " ('18-07-2016', 1),\n",
              " ('18-08-2020', 1),\n",
              " ('18-10-2020', 1),\n",
              " ('19-02-2017', 1)]"
            ]
          },
          "metadata": {},
          "execution_count": 74
        }
      ],
      "source": [
        "query = \"\"\"\n",
        "          WITH Seniors AS\n",
        "          (\n",
        "            SELECT Date, [Landing _Outcome]\n",
        "            FROM SPACEXTBL\n",
        "            WHERE [Landing _Outcome] LIKE '%Success%'\n",
        "          )\n",
        "          SELECT Date, COUNT(1) \n",
        "          FROM Seniors\n",
        "          WHERE Date > '04-06-2010' AND Date < '20-03-2017'\n",
        "          GROUP BY Date\n",
        "          ORDER BY COUNT(1)\n",
        "\"\"\"\n",
        "cur.execute(query).fetchall()"
      ]
    },
    {
      "cell_type": "markdown",
      "metadata": {
        "id": "6WP7fDHNtr1E"
      },
      "source": [
        "### Reference Links\n",
        "\n",
        "*   <a href =\"https://cf-courses-data.s3.us.cloud-object-storage.appdomain.cloud/IBMDeveloperSkillsNetwork-DB0201EN-SkillsNetwork/labs/Labs_Coursera_V5/labs/Lab%20-%20String%20Patterns%20-%20Sorting%20-%20Grouping/instructional-labs.md.html?utm_medium=Exinfluencer&utm_source=Exinfluencer&utm_content=000026UJ&utm_term=10006555&utm_id=NA-SkillsNetwork-Channel-SkillsNetworkCoursesIBMDS0321ENSkillsNetwork26802033-2022-01-01&origin=www.coursera.org\">Hands-on Lab : String Patterns, Sorting and Grouping</a>\n",
        "\n",
        "*   <a  href=\"https://cf-courses-data.s3.us.cloud-object-storage.appdomain.cloud/IBMDeveloperSkillsNetwork-DB0201EN-SkillsNetwork/labs/Labs_Coursera_V5/labs/Lab%20-%20Built-in%20functions%20/Hands-on_Lab__Built-in_Functions.md.html?utm_medium=Exinfluencer&utm_source=Exinfluencer&utm_content=000026UJ&utm_term=10006555&utm_id=NA-SkillsNetwork-Channel-SkillsNetworkCoursesIBMDS0321ENSkillsNetwork26802033-2022-01-01&origin=www.coursera.org\">Hands-on Lab: Built-in functions</a>\n",
        "\n",
        "*   <a  href=\"https://cf-courses-data.s3.us.cloud-object-storage.appdomain.cloud/IBMDeveloperSkillsNetwork-DB0201EN-SkillsNetwork/labs/Labs_Coursera_V5/labs/Lab%20-%20Sub-queries%20and%20Nested%20SELECTs%20/instructional-labs.md.html?utm_medium=Exinfluencer&utm_source=Exinfluencer&utm_content=000026UJ&utm_term=10006555&utm_id=NA-SkillsNetwork-Channel-SkillsNetworkCoursesIBMDS0321ENSkillsNetwork26802033-2022-01-01&origin=www.coursera.org\">Hands-on Lab : Sub-queries and Nested SELECT Statements</a>\n",
        "\n",
        "*   <a href=\"https://cf-courses-data.s3.us.cloud-object-storage.appdomain.cloud/IBMDeveloperSkillsNetwork-DB0201EN-SkillsNetwork/labs/Module%205/DB0201EN-Week3-1-3-SQLmagic.ipynb?utm_medium=Exinfluencer&utm_source=Exinfluencer&utm_content=000026UJ&utm_term=10006555&utm_id=NA-SkillsNetwork-Channel-SkillsNetworkCoursesIBMDS0321ENSkillsNetwork26802033-2022-01-01\">Hands-on Tutorial: Accessing Databases with SQL magic</a>\n",
        "\n",
        "*   <a href= \"https://cf-courses-data.s3.us.cloud-object-storage.appdomain.cloud/IBMDeveloperSkillsNetwork-DB0201EN-SkillsNetwork/labs/Module%205/DB0201EN-Week3-1-4-Analyzing.ipynb?utm_medium=Exinfluencer&utm_source=Exinfluencer&utm_content=000026UJ&utm_term=10006555&utm_id=NA-SkillsNetwork-Channel-SkillsNetworkCoursesIBMDS0321ENSkillsNetwork26802033-2022-01-01\">Hands-on Lab: Analyzing a real World Data Set</a>\n"
      ]
    },
    {
      "cell_type": "markdown",
      "metadata": {
        "id": "OFTNblj9tr1F"
      },
      "source": [
        "## Author(s)\n",
        "\n",
        "<h4> Lakshmi Holla </h4>\n"
      ]
    },
    {
      "cell_type": "markdown",
      "metadata": {
        "id": "VVQ9uSU9tr1F"
      },
      "source": [
        "## Other Contributors\n",
        "\n",
        "<h4> Rav Ahuja </h4>\n"
      ]
    },
    {
      "cell_type": "markdown",
      "metadata": {
        "id": "Q1fALSrGtr1F"
      },
      "source": [
        "## Change log\n",
        "\n",
        "| Date       | Version | Changed by    | Change Description        |\n",
        "| ---------- | ------- | ------------- | ------------------------- |\n",
        "| 2021-07-09 | 0.2     | Lakshmi Holla | Changes made in magic sql |\n",
        "| 2021-05-20 | 0.1     | Lakshmi Holla | Created Initial Version   |\n"
      ]
    },
    {
      "cell_type": "markdown",
      "metadata": {
        "id": "WKg5yfeMtr1F"
      },
      "source": [
        "## <h3 align=\"center\"> © IBM Corporation 2021. All rights reserved. <h3/>\n"
      ]
    }
  ],
  "metadata": {
    "kernelspec": {
      "display_name": "Python 3",
      "language": "python",
      "name": "python3"
    },
    "language_info": {
      "codemirror_mode": {
        "name": "ipython",
        "version": 3
      },
      "file_extension": ".py",
      "mimetype": "text/x-python",
      "name": "python",
      "nbconvert_exporter": "python",
      "pygments_lexer": "ipython3",
      "version": "3.8.8"
    },
    "colab": {
      "name": "jupyter-labs-eda-sql-coursera_sqllite.ipynb",
      "provenance": [],
      "include_colab_link": true
    }
  },
  "nbformat": 4,
  "nbformat_minor": 0
}